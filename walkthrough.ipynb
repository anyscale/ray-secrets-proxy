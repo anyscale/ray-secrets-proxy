{
 "cells": [
  {
   "cell_type": "markdown",
   "metadata": {},
   "source": [
    "# Ray Secrets Proxy\n",
    "\n",
    "The Ray Secrets Proxy offers a Ray native approach to managing secrets in a Ray or Anyscale environment.  This walkthrough will show how to use the Ray Secrets Proxy for either the AWS Secrets Manager or GCP Secrets Manager."
   ]
  },
  {
   "cell_type": "markdown",
   "metadata": {},
   "source": [
    "## Initializing the environment and import classes"
   ]
  },
  {
   "cell_type": "code",
   "execution_count": null,
   "metadata": {},
   "outputs": [],
   "source": [
    "import ray\n",
    "from ray_secret_operator import AWSRaySecretOperator, GCPRaySecretOperator\n",
    "from ray_secret_proxy import RaySecretProxy\n",
    "\n",
    "ray.init()"
   ]
  },
  {
   "cell_type": "markdown",
   "metadata": {},
   "source": [
    "## AWS Secrets Manager"
   ]
  },
  {
   "cell_type": "code",
   "execution_count": null,
   "metadata": {},
   "outputs": [],
   "source": [
    "# Initialize the AWS Operator\n",
    "operator = AWSRaySecretOperator()"
   ]
  },
  {
   "cell_type": "markdown",
   "metadata": {},
   "source": [
    "\n",
    "This can also be done by explicitly passing credentials into the operator\n",
    "```\n",
    "operator = AWSRaySecretOperator(\n",
    "    aws_access_key_id=ABC,\n",
    "    aws_secret_access_key=ABC,\n",
    "    aws_session_token=XYZ\n",
    ")\n",
    "```"
   ]
  },
  {
   "cell_type": "markdown",
   "metadata": {},
   "source": [
    "## Sample GCP code\n",
    "```\n",
    "project_id = 'ABCXYZ'\n",
    "\n",
    "# Initialize the GCP Operator\n",
    "gcp_op = GCPRaySecretOperator(project_id=project_id) \n",
    "```\n",
    "\n",
    "You can also pass in an explicit credentials dictionary to the operator\n",
    "```\n",
    "your_gcp_credential_dict= { /credential material/ }\n",
    "operator = GCPRaySecretOperator(project_id=project_id, credentials=your_gcp_credential_dict) \n",
    "```"
   ]
  },
  {
   "cell_type": "code",
   "execution_count": null,
   "metadata": {},
   "outputs": [],
   "source": [
    "\n",
    "# Create the Secret Proxy with a default TTL of -1\n",
    "ssm_proxy = RaySecretProxy.remote(ray_secret_operator=operator) "
   ]
  },
  {
   "cell_type": "markdown",
   "metadata": {},
   "source": [
    "TTL of -1 means the secret will never expire and fetched secrets will be stored in the proxy cache\n",
    "\n",
    "You can also pass in other TTLs:\n",
    "\n",
    "TTL = 0 means no secret will be cached in the proxy.  Any secrets will be fetched at runtime.  \n",
    "However, by expicitly fetching a secret, you can override the expiry time of the secret that is returned.  It will not be persisted in the cache.\n",
    "```\n",
    "aws_ssm_proxy = RaySecretProxy.remote(aws_op, ttl=0)\n",
    "```\n",
    "\n",
    "TTL > 0 means the secret, once fetched, will remain cached and valid for X seconds. \n",
    "If the secret is expired when requested, it will be fetched again upon request\n",
    "```\n",
    "aws_ssm_proxy = RaySecretProxy.remote(aws_op, ttl=3600)\n",
    "```"
   ]
  },
  {
   "cell_type": "markdown",
   "metadata": {},
   "source": [
    "## List secrets "
   ]
  },
  {
   "cell_type": "code",
   "execution_count": null,
   "metadata": {},
   "outputs": [],
   "source": [
    "\n",
    "list_of_secrets = ray.get(ssm_proxy.list_secrets.remote())"
   ]
  },
  {
   "cell_type": "markdown",
   "metadata": {},
   "source": [
    "\n",
    "Returns a list of names that are stored in the SSM for the AWS account/region or GCP project\n",
    "\n",
    "You can pass in a filter object based on the filters outlined in the AWS/GCP documentation:\n",
    "https://boto3.amazonaws.com/v1/documentation/api/latest/reference/services/secretsmanager.html#SecretsManager.Client.list_secrets\n",
    "https://cloud.google.com/secret-manager/docs/reference/rest/v1/projects.secrets/list\n",
    "\n",
    "AWS example:\n",
    "```\n",
    "list_of_secrets = ray.get(ssm_proxy.list_secrets.remote(\n",
    "    filter=[\n",
    "        {\n",
    "            'Key': 'tag-key',\n",
    "            'Values': [\n",
    "                'Dev','Ray','Anyscale\n",
    "            ]\n",
    "        },\n",
    "    ]\n",
    "))\n",
    "```\n",
    "GCP example:\n",
    "```\n",
    "list_of_secrets = ray.get(ssm_proxy.list_secrets.remote(\n",
    "    filter=\"name:Dev OR name:Ray OR name:Anyscale\"\n",
    "))\n",
    "```"
   ]
  },
  {
   "cell_type": "markdown",
   "metadata": {},
   "source": [
    "\n",
    "## Hydrate the cache with all available secrets"
   ]
  },
  {
   "cell_type": "code",
   "execution_count": null,
   "metadata": {},
   "outputs": [],
   "source": [
    "\n",
    "ray.get(ssm_proxy.hydrate_cache.remote())"
   ]
  },
  {
   "cell_type": "markdown",
   "metadata": {},
   "source": [
    "\n",
    "This will fetch all secrets available from the list_secrets operation and store them into the proxy cache (only if the TTL is not 0)\n",
    "\n",
    "Like list_secrets, you can pass in the filter argument.\n",
    "\n",
    "In addition, you can pass in an argument for secret_names, a list of secret names to pull into the cache/\n",
    "```\n",
    "ray.get(ssm_proxy.hydrate_cache.remote(\n",
    "    secret_names = ['supersecret1', 'supersecret2']\n",
    "))\n",
    "```"
   ]
  },
  {
   "cell_type": "markdown",
   "metadata": {},
   "source": [
    "## Removing Secrets from the Cache\n"
   ]
  },
  {
   "cell_type": "code",
   "execution_count": null,
   "metadata": {},
   "outputs": [],
   "source": [
    "\n",
    "# Listing available secrets in the cache\n",
    "ray.get(ssm_proxy.list_cached_secrets.remote())\n",
    "'''\n",
    "Returns a list of secret names that are stored in the cache\n",
    "\n",
    "'''\n",
    "\n",
    "# Purge a specific secret from the cache\n",
    "ray.get(ssm_proxy.purge_secret.remote('supersecret1'))\n",
    "'''\n",
    "If the secret is stored in the secret cache, it will be removed.  New attempts to fetch the secret will try and fetch from the SSM.\n",
    "'''\n",
    "\n",
    "# Purge all secrets from cache\n",
    "ray.get(ssm_proxy.purge_cache.remote())"
   ]
  },
  {
   "cell_type": "markdown",
   "metadata": {},
   "source": [
    "\n",
    "## Retrieving secrets"
   ]
  },
  {
   "cell_type": "code",
   "execution_count": null,
   "metadata": {},
   "outputs": [],
   "source": [
    "# Retrieve a specific secret\n",
    "secret = ray.get(ssm_proxy.get_secret.remote(secret_name='supersecret'))"
   ]
  },
  {
   "cell_type": "markdown",
   "metadata": {},
   "source": [
    "This will attempt to retrieve the Ray Secret named 'supersecret' from either the AWS or GCP secret manager.\n",
    "\n",
    "### Adding a TTL\n",
    "You can add a TTL to a specific secret upon retrieval.  The TTL value meanings are the same as the Ray Secret Proxy.\n",
    "\n",
    "However, the TTL passed to get_secret is persisted to the secret itself, changing the behavior of the cache hit/refresh and providing expiry information to the consumer if no secrets are cached in the proxy.\n",
    "```\n",
    "# Cache the secret if Proxy TTL is not 0\n",
    "secret = ray.get(ssm_proxy.get_secret.remote(secret_name='supersecret', ttl=-1))\n",
    "\n",
    "# Cache the secret for X seconds if Proxy TTL is not 0\n",
    "secret = ray.get(ssm_proxy.get_secret.remote(secret_name='supersecret', ttl=3600))\n",
    "\n",
    "# Do not cache the Secret\n",
    "secret = ray.get(ssm_proxy.get_secret.remote(secret_name='supersecret', ttl=0))\n",
    "```\n",
    "\n",
    "\n",
    "### AWS Variants \n",
    "```\n",
    "secret = ray.get(ssm_proxy.get_secret.remote(secret_name='<SECRET_ARN_OR_NAME>'))\n",
    "secret = ray.get(ssm_proxy.get_secret.remote(secret_name='<SECRET_ARN_OR_NAME>', VersionState='string'))\n",
    "secret = ray.get(ssm_proxy.get_secret.remote(secret_name='<SECRET_ARN_OR_NAME>', VersionId='string'))\n",
    "secret = ray.get(ssm_proxy.get_secret.remote(secret_name='<SECRET_ARN_OR_NAME>', VersionId='string', VersionState='string'))\n",
    "```\n",
    "\n",
    "### GCP Variants\n",
    "```\n",
    "secret = ray.get(ssm_proxy.get_secret.remote(secret_name='<SECRET_ARN>'))\n",
    "secret = ray.get(ssm_proxy.get_secret.remote(secret_name='<SECRET_NAME>/versions/<VERSION>'))\n",
    "secret = ray.get(ssm_proxy.get_secret.remote(secret_name='projects/<PROJECT_ID>/secrets/<SECRET_NAME>'))\n",
    "secret = ray.get(ssm_proxy.get_secret.remote(secret_name='projects/<PROJECT_ID>/secrets/<SECRET_NAME>/versions/<VERSION>'))\n",
    "```"
   ]
  },
  {
   "cell_type": "markdown",
   "metadata": {},
   "source": [
    "## Accessing a Secret\n",
    "The Ray Secret is a class that does not immediately expose secret material.  To access the secret, use the secret.value() method."
   ]
  },
  {
   "cell_type": "code",
   "execution_count": null,
   "metadata": {},
   "outputs": [],
   "source": [
    "print(secret) #return SECRET_NAME: ********\n",
    "print(secret.value()) # returns SECRET_VALUE < -- Don't do this\n",
    "\n",
    "print(secret.metadata) #returns any extra information that was returned as part of the get_secret operation\n",
    "print(secret.is_expired()) #returns a boolean True if the secret is still valid based on it's TTL, False if otherwise"
   ]
  }
 ],
 "metadata": {
  "language_info": {
   "name": "python"
  },
  "orig_nbformat": 4
 },
 "nbformat": 4,
 "nbformat_minor": 2
}
